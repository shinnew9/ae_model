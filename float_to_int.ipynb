{
 "cells": [
  {
   "cell_type": "code",
   "execution_count": 1,
   "metadata": {},
   "outputs": [],
   "source": [
    "import os \n",
    "import numpy as np\n",
    "import pandas as pd\n",
    "\n",
    "from pathlib import Path"
   ]
  },
  {
   "cell_type": "code",
   "execution_count": 2,
   "metadata": {},
   "outputs": [],
   "source": [
    "# 데이터 경로 설정\n",
    "data_dir = Path(\"/home/shinnew99/ListenMachine-ASD/label_done_data_float\")\n",
    "output_dir = Path(\"/home/shinnew99/ListenMachine-ASD/label_done_data_float\")"
   ]
  },
  {
   "cell_type": "code",
   "execution_count": 3,
   "metadata": {},
   "outputs": [],
   "source": [
    "# 경로 설정\n",
    "heavy_de_comp = Path(data_dir) / \"heavy\" / \"de_compressor\"\n",
    "main_t_fan = Path(data_dir) / \"heavy\" / \"main_t_fan\"  # 주 변압기 송풍기\n",
    "l_heavy_16th = Path(data_dir) / \"light\" / \"l_heavy\" / \"16th_fan\"  # de_fan\n",
    "l_heavy_19th = Path(data_dir) / \"light\" / \"l_heavy\" / \"19th_fan\"  # de_fan\n",
    "de_motor = Path(data_dir) / \"light\" / \"16th_motor\"\n",
    "mic1_fan_dir = Path(data_dir) / \"light\" / \"mic1_fan\"\n",
    "mic2_fan_motor_dir = Path(data_dir) / \"light\" / \"mic2_fan_motor\"\n",
    "mic3_compressor_dir = Path(data_dir) / \"light\" / \"mic3_compressor\"\n",
    "mic4_small_fan_dir = Path(data_dir) / \"light\" / \"mic4_small_fan\"\n",
    "mic5_oil_pump_dir = Path(data_dir) / \"light\" / \"mic5_oil_pump\""
   ]
  },
  {
   "cell_type": "code",
   "execution_count": 13,
   "metadata": {},
   "outputs": [
    {
     "name": "stdout",
     "output_type": "stream",
     "text": [
      "Processing file: /home/shinnew99/ListenMachine-ASD/label_done_data_float/heavy/main_t_fan/mic2_241119_102930.txt\n",
      "['119\\t970\\tmain_t_fan_only\\n']\n",
      "Saved to /home/shinnew99/ListenMachine-ASD/label_done_data_float/heavy/main_t_fan/mic2_241119_102930.txt\n",
      "Processing file: /home/shinnew99/ListenMachine-ASD/label_done_data_float/heavy/main_t_fan/mic1_241119_103026.txt\n",
      "['0\\t930\\tmain_t_fan_only\\n']\n",
      "Saved to /home/shinnew99/ListenMachine-ASD/label_done_data_float/heavy/main_t_fan/mic1_241119_103026.txt\n",
      "Processing file: /home/shinnew99/ListenMachine-ASD/label_done_data_float/heavy/main_t_fan/mic3_241119_102922.txt\n",
      "['98\\t963\\tmain_t_fan_only\\n']\n",
      "Saved to /home/shinnew99/ListenMachine-ASD/label_done_data_float/heavy/main_t_fan/mic3_241119_102922.txt\n"
     ]
    }
   ],
   "source": [
    "# 디렉토리 내 모든 .txt 파일 읽기\n",
    "for txt_file in main_t_fan.glob(\"*.txt\"):  # .txt 파일만 읽기\n",
    "    print(f\"Processing file: {txt_file}\")\n",
    "    new_lines = []\n",
    "\n",
    "    with open(txt_file, 'r') as f:\n",
    "        lines = f.readlines()\n",
    "        \n",
    "    for line in lines:\n",
    "        parts = line.strip().split(\"\\t\")\n",
    "        if len(parts) == 3:  # 형식: start_time, end_time, label\n",
    "            start_time = int(float(parts[0]))\n",
    "            end_time = int(float(parts[1]))\n",
    "            label = parts[2]\n",
    "            new_lines.append(f\"{start_time}\\t{end_time}\\t{label}\\n\")\n",
    "            print(new_lines)\n",
    "\n",
    "        \n",
    "    # 데이터 저장\n",
    "    output_file = output_dir / \"heavy\" / \"main_t_fan\" / txt_file.name\n",
    "    with open(output_file, 'w') as f:\n",
    "        f.writelines(new_lines)\n",
    "    \n",
    "    print(f\"Saved to {output_file}\")"
   ]
  },
  {
   "cell_type": "code",
   "execution_count": null,
   "metadata": {},
   "outputs": [],
   "source": []
  },
  {
   "cell_type": "code",
   "execution_count": null,
   "metadata": {},
   "outputs": [],
   "source": []
  },
  {
   "cell_type": "code",
   "execution_count": 1,
   "metadata": {},
   "outputs": [],
   "source": [
    "# 경로 설정\n",
    "from pathlib import Path\n",
    "\n",
    "mic1_fan_dir = Path(\"/home/shinnew99/ListenMachine-ASD/label_done_data/light/mic1_fan_int\")\n",
    "output_dir = Path(\"/home/shinnew99/ListenMachine-ASD/label_done_data/light/mic1_fan_int_cleaned\")\n",
    "output_dir.mkdir(parents=True, exist_ok=True)  # 결과 저장 폴더 생성\n",
    "\n",
    "# 디렉토리 내 모든 .txt 파일 읽기\n",
    "for txt_file in mic1_fan_dir.glob(\"*.txt\"):\n",
    "    print(f\"Checking file: {txt_file}\")\n",
    "    cleaned_lines = []\n",
    "\n",
    "    with open(txt_file, 'r') as f:\n",
    "        lines = f.readlines()\n",
    "    \n",
    "    for line in lines:\n",
    "        parts = line.strip().split(\"\\t\")\n",
    "        if len(parts) == 3:  # 올바른 형식 확인\n",
    "            try:\n",
    "                st_int = int(float(parts[0]))  # 시작 시간 정수\n",
    "                en_int = int(float(parts[1]))  # 끝 시간 정수\n",
    "                label = parts[2]\n",
    "                cleaned_lines.append(f\"{st_int}\\t{en_int}\\t{label}\\n\")\n",
    "            except ValueError as e:\n",
    "                print(f\"Error in line: {line} --> {e}\")\n",
    "    \n",
    "    # 클린 파일 저장\n",
    "    cleaned_file = output_dir / txt_file.name\n",
    "    with open(cleaned_file, 'w') as f:\n",
    "        f.writelines(cleaned_lines)\n",
    "    print(f\"Saved cleaned file to: {cleaned_file}\")\n"
   ]
  },
  {
   "cell_type": "code",
   "execution_count": null,
   "metadata": {},
   "outputs": [],
   "source": []
  }
 ],
 "metadata": {
  "kernelspec": {
   "display_name": "Python 3",
   "language": "python",
   "name": "python3"
  },
  "language_info": {
   "codemirror_mode": {
    "name": "ipython",
    "version": 3
   },
   "file_extension": ".py",
   "mimetype": "text/x-python",
   "name": "python",
   "nbconvert_exporter": "python",
   "pygments_lexer": "ipython3",
   "version": "3.10.12"
  }
 },
 "nbformat": 4,
 "nbformat_minor": 2
}
