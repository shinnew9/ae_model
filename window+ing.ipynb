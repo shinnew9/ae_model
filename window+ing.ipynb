{
 "cells": [
  {
   "cell_type": "code",
   "execution_count": 1,
   "metadata": {},
   "outputs": [],
   "source": [
    "from pathlib import Path\n",
    "\n",
    "# Windowing 클래스불러오기\n",
    "from windowing import Windowing"
   ]
  },
  {
   "cell_type": "code",
   "execution_count": 2,
   "metadata": {},
   "outputs": [
    {
     "data": {
      "text/plain": [
       "'/home/shinnew99/ListenMachine-ASD/ae_model'"
      ]
     },
     "execution_count": 2,
     "metadata": {},
     "output_type": "execute_result"
    }
   ],
   "source": [
    "pwd"
   ]
  },
  {
   "cell_type": "code",
   "execution_count": 3,
   "metadata": {},
   "outputs": [],
   "source": [
    "data_dir = Path(\"/home/shinnew99/ListenMachine-ASD/label_done_data_float\")"
   ]
  },
  {
   "cell_type": "code",
   "execution_count": 4,
   "metadata": {},
   "outputs": [],
   "source": [
    "# light 데이터 (정상) 세부 폴더 설정\n",
    "light_subfolders = [\n",
    "    data_dir / \"light\" / \"l_heavy\" / \"16th_fan\",\n",
    "    data_dir / \"light\" / \"l_heavy\" / \"19th_fan\",\n",
    "    data_dir / \"light\" / \"mic1_fan\",\n",
    "    data_dir / \"light\" / \"mic2_fan_motor\",\n",
    "    data_dir / \"light\" / \"mic3_compressor\",\n",
    "    data_dir / \"light\" / \"mic4_small_fan\",\n",
    "    data_dir / \"light\" / \"mic5_oil_pump\",\n",
    "]\n",
    "\n",
    "# heavy 데이터 (고장) 세부 폴더 설정\n",
    "heavy_subfolders = [\n",
    "    data_dir / \"heavy\" / \"de_compressor\",\n",
    "    data_dir / \"heavy\" / \"main_t_fan\"\n",
    "]"
   ]
  },
  {
   "cell_type": "code",
   "execution_count": null,
   "metadata": {},
   "outputs": [],
   "source": [
    "from pathlib import Path\n",
    "\n",
    "# 윈도우된 데이터를 저장할 경로\n",
    "windowed_save_dir = Path(\"/home/shinnew99/ListenMachine-ASD/ae_model/windowed_data\")\n",
    "\n",
    "print(\"Processing light (normal) data...\")\n",
    "\n",
    "for folder in light_subfolders:\n",
    "    print(f\"Starting windowing for folder: {folder}...\")\n",
    "\n",
    "    # 저장할 폴더 경로: light/<subfolder> 형태로 저장\n",
    "    save_folder = windowed_save_dir / \"light\" / folder.name\n",
    "\n",
    "    # 폴더가 존재하지 않으면 자동으로 생성\n",
    "    save_folder.mkdir(parents=True, exist_ok=True)\n",
    "\n",
    "    # Windowing 클래스 인스턴스 생성\n",
    "    windowing_light = Windowing(\n",
    "        audio_folders=folder,  # 각 폴더를 개별적으로 처리\n",
    "        similar_labels = {},\n",
    "        window_save_folder=str(save_folder),  # 생성된 저장 폴더 경로\n",
    "        window_size=3.0,  # 3초 길이의 윈도우\n",
    "        hop_size=1.5,  # 50% 오버랩\n",
    "    )\n",
    "\n",
    "    # 윈도우 적용 실행\n",
    "    windowing_light()\n",
    "\n",
    "print(\"Light (normal) data windowing completed.\")"
   ]
  },
  {
   "cell_type": "code",
   "execution_count": 8,
   "metadata": {},
   "outputs": [
    {
     "name": "stdout",
     "output_type": "stream",
     "text": [
      "Processing heavy (abnormal) data...\n",
      "Starting windowing for folder: /home/shinnew99/ListenMachine-ASD/label_done_data_float/heavy/de_compressor...\n",
      "Labels aread from /home/shinnew99/ListenMachine-ASD/label_done_data_float/heavy/de_compressor/mic1_241017_094930.txt:['43\\t1145\\tde_compressor_only']\n",
      " -- Considering\n",
      "de_compressor_only\n",
      "as others.\n",
      "\n",
      "Labels aread from /home/shinnew99/ListenMachine-ASD/label_done_data_float/heavy/de_compressor/mic5_241017_100846.txt:['11\\t1037\\tde_compressor_only']\n",
      " -- Considering\n",
      "de_compressor_only\n",
      "as others.\n",
      "\n",
      "Labels aread from /home/shinnew99/ListenMachine-ASD/label_done_data_float/heavy/de_compressor/mic5_241017_094932.txt:['31\\t1141\\tde_compressor_only']\n",
      " -- Considering\n",
      "de_compressor_only\n",
      "as others.\n",
      "\n",
      "Labels aread from /home/shinnew99/ListenMachine-ASD/label_done_data_float/heavy/de_compressor/mic1_241017_100844.txt:['15\\t1039\\tde_compressor_only']\n",
      " -- Considering\n",
      "de_compressor_only\n",
      "as others.\n",
      "\n",
      "Starting windowing for folder: /home/shinnew99/ListenMachine-ASD/label_done_data_float/heavy/main_t_fan...\n",
      "Labels aread from /home/shinnew99/ListenMachine-ASD/label_done_data_float/heavy/main_t_fan/mic2_241119_102930.txt:['119\\t970\\tmain_t_fan_only']\n",
      " -- Considering\n",
      "main_t_fan_only\n",
      "as others.\n",
      "\n",
      "Labels aread from /home/shinnew99/ListenMachine-ASD/label_done_data_float/heavy/main_t_fan/mic3_241119_102922.txt:['98\\t963\\tmain_t_fan_only']\n",
      " -- Considering\n",
      "main_t_fan_only\n",
      "as others.\n",
      "\n",
      "Labels aread from /home/shinnew99/ListenMachine-ASD/label_done_data_float/heavy/main_t_fan/mic1_241119_103026.txt:['0\\t930\\tmain_t_fan_only']\n",
      " -- Considering\n",
      "main_t_fan_only\n",
      "as others.\n",
      "\n",
      "Heavy (abnormal) data windowing completed.\n"
     ]
    }
   ],
   "source": [
    "print(\"Processing heavy (abnormal) data...\")\n",
    "\n",
    "for folder in heavy_subfolders:\n",
    "    print(f\"Starting windowing for folder: {folder}...\")\n",
    "\n",
    "    # 저장할 폴더 경로: light/<subfolder> 형태로 저장\n",
    "    save_folder = windowed_save_dir / \"heavy\" / folder.name\n",
    "\n",
    "    # 폴더가 존재하지 않으면 자동으로 생성\n",
    "    save_folder.mkdir(parents=True, exist_ok=True)\n",
    "\n",
    "    # Windowing 클래스 인스턴스 생성\n",
    "    windowing_heavy = Windowing(\n",
    "        audio_folders=folder,  # 각 폴더를 개별적으로 처리\n",
    "        similar_labels = {},\n",
    "        window_save_folder=str(save_folder),  # 생성된 저장 폴더 경로\n",
    "        window_size=3.0,  # 3초 길이의 윈도우\n",
    "        hop_size=1.5,  # 50% 오버랩\n",
    "    )\n",
    "\n",
    "    # 윈도우 적용 실행\n",
    "    windowing_heavy()\n",
    "\n",
    "print(\"Heavy (abnormal) data windowing completed.\")"
   ]
  },
  {
   "cell_type": "code",
   "execution_count": null,
   "metadata": {},
   "outputs": [],
   "source": []
  },
  {
   "cell_type": "code",
   "execution_count": null,
   "metadata": {},
   "outputs": [],
   "source": []
  },
  {
   "cell_type": "code",
   "execution_count": null,
   "metadata": {},
   "outputs": [],
   "source": []
  },
  {
   "cell_type": "code",
   "execution_count": null,
   "metadata": {},
   "outputs": [],
   "source": []
  }
 ],
 "metadata": {
  "kernelspec": {
   "display_name": "Python 3",
   "language": "python",
   "name": "python3"
  },
  "language_info": {
   "codemirror_mode": {
    "name": "ipython",
    "version": 3
   },
   "file_extension": ".py",
   "mimetype": "text/x-python",
   "name": "python",
   "nbconvert_exporter": "python",
   "pygments_lexer": "ipython3",
   "version": "3.10.12"
  }
 },
 "nbformat": 4,
 "nbformat_minor": 2
}
